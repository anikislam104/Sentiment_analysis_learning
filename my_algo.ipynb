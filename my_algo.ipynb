{
 "cells": [
  {
   "cell_type": "code",
   "execution_count": 2,
   "metadata": {},
   "outputs": [],
   "source": [
    "import pandas as pd\n",
    "import numpy as np\n",
    "import matplotlib.pyplot as plt\n",
    "import seaborn as sns\n",
    "from sklearn.model_selection import train_test_split\n",
    "from wordcloud import WordCloud\n",
    "import bnltk\n",
    "# from bnlp import NLTKTokenizer\n",
    "from bltk.langtools import Tokenizer\n",
    "from bltk.langtools import remove_stopwords\n",
    "# from bangla_stemmer.stemmer import stemmer\n",
    "import re"
   ]
  },
  {
   "cell_type": "code",
   "execution_count": 3,
   "metadata": {},
   "outputs": [],
   "source": [
    "data=pd.read_excel('data/data1.xlsx')\n",
    "for i in range(2,46):\n",
    "    d=pd.read_excel('data/data'+str(i)+'.xlsx')\n",
    "    data=pd.concat([data,d],axis=0,ignore_index=True)\n",
    "\n",
    "df=data.copy()"
   ]
  },
  {
   "cell_type": "code",
   "execution_count": 4,
   "metadata": {},
   "outputs": [
    {
     "data": {
      "text/plain": [
       "1.0    1110\n",
       "3.0     553\n",
       "2.0     434\n",
       "6.0     402\n",
       "7.0      74\n",
       "5.0      69\n",
       "4.0      38\n",
       "Name: Label, dtype: int64"
      ]
     },
     "execution_count": 4,
     "metadata": {},
     "output_type": "execute_result"
    }
   ],
   "source": [
    "df['Label'].value_counts()"
   ]
  },
  {
   "cell_type": "code",
   "execution_count": null,
   "metadata": {},
   "outputs": [],
   "source": []
  }
 ],
 "metadata": {
  "kernelspec": {
   "display_name": "base",
   "language": "python",
   "name": "python3"
  },
  "language_info": {
   "codemirror_mode": {
    "name": "ipython",
    "version": 3
   },
   "file_extension": ".py",
   "mimetype": "text/x-python",
   "name": "python",
   "nbconvert_exporter": "python",
   "pygments_lexer": "ipython3",
   "version": "3.9.7 (default, Sep 16 2021, 16:59:28) [MSC v.1916 64 bit (AMD64)]"
  },
  "orig_nbformat": 4,
  "vscode": {
   "interpreter": {
    "hash": "72810415e89f4781583f83fd436e59b66cd4ea53cdb796548e396a9e08c48419"
   }
  }
 },
 "nbformat": 4,
 "nbformat_minor": 2
}
