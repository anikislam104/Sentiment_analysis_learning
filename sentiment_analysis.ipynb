{
 "cells": [
  {
   "cell_type": "code",
   "execution_count": 2,
   "metadata": {},
   "outputs": [],
   "source": [
    "import numpy as np"
   ]
  },
  {
   "cell_type": "code",
   "execution_count": 3,
   "metadata": {},
   "outputs": [
    {
     "name": "stderr",
     "output_type": "stream",
     "text": [
      "e:\\Installation\\Anaconda\\lib\\site-packages\\scipy\\__init__.py:146: UserWarning: A NumPy version >=1.16.5 and <1.23.0 is required for this version of SciPy (detected version 1.23.5\n",
      "  warnings.warn(f\"A NumPy version >={np_minversion} and <{np_maxversion}\"\n"
     ]
    }
   ],
   "source": [
    "import numpy as np\n",
    "import pandas as pd\n",
    "import matplotlib.pyplot as plt\n",
    "%matplotlib inline\n",
    "import seaborn as sns\n",
    "import re,json,nltk\n",
    "from sklearn.preprocessing import LabelEncoder\n",
    "from sklearn.feature_extraction.text import TfidfVectorizer\n",
    "from sklearn.model_selection import train_test_split\n",
    "from sklearn.metrics import classification_report,accuracy_score,precision_score,recall_score,f1_score\n"
   ]
  },
  {
   "cell_type": "code",
   "execution_count": 4,
   "metadata": {},
   "outputs": [],
   "source": [
    "from tensorflow.keras.preprocessing.text import Tokenizer"
   ]
  },
  {
   "cell_type": "code",
   "execution_count": 5,
   "metadata": {},
   "outputs": [],
   "source": [
    "class color: # Text style\n",
    "   PURPLE = '\\033[95m'\n",
    "   CYAN = '\\033[96m'\n",
    "   DARKCYAN = '\\033[36m'\n",
    "   BLUE = '\\033[94m'\n",
    "   GREEN = '\\033[92m'\n",
    "   YELLOW = '\\033[93m'\n",
    "   RED = '\\033[91m'\n",
    "   BOLD = '\\033[1m'\n",
    "   UNDERLINE = '\\033[4m'\n",
    "   END = '\\033[0m'"
   ]
  },
  {
   "cell_type": "code",
   "execution_count": 6,
   "metadata": {},
   "outputs": [
    {
     "data": {
      "text/html": [
       "<div>\n",
       "<style scoped>\n",
       "    .dataframe tbody tr th:only-of-type {\n",
       "        vertical-align: middle;\n",
       "    }\n",
       "\n",
       "    .dataframe tbody tr th {\n",
       "        vertical-align: top;\n",
       "    }\n",
       "\n",
       "    .dataframe thead th {\n",
       "        text-align: right;\n",
       "    }\n",
       "</style>\n",
       "<table border=\"1\" class=\"dataframe\">\n",
       "  <thead>\n",
       "    <tr style=\"text-align: right;\">\n",
       "      <th></th>\n",
       "      <th>Name</th>\n",
       "      <th>Profile ID</th>\n",
       "      <th>Date</th>\n",
       "      <th>Comment</th>\n",
       "      <th>Category</th>\n",
       "    </tr>\n",
       "  </thead>\n",
       "  <tbody>\n",
       "    <tr>\n",
       "      <th>0</th>\n",
       "      <td>Md Sohorab Munsi</td>\n",
       "      <td>ID: 100003883864232</td>\n",
       "      <td>2022-09-08 10:37:13</td>\n",
       "      <td>ইলিশের মূল্য চুকাতে হবে না?? এত কম মূল্যে ইলিশ...</td>\n",
       "      <td>3</td>\n",
       "    </tr>\n",
       "    <tr>\n",
       "      <th>1</th>\n",
       "      <td>Md Eleaus Mia</td>\n",
       "      <td>ID: 100009038460644</td>\n",
       "      <td>2022-09-08 10:37:26</td>\n",
       "      <td>ভারত সফরের পুরস্কার😢😢</td>\n",
       "      <td>1</td>\n",
       "    </tr>\n",
       "    <tr>\n",
       "      <th>2</th>\n",
       "      <td>Ashiq Mollik</td>\n",
       "      <td>ID: 100007295678324</td>\n",
       "      <td>2022-09-08 10:37:31</td>\n",
       "      <td>কি  অবস্থা ,  আমাদের  প্রধানমন্ত্রী still  kno...</td>\n",
       "      <td>3</td>\n",
       "    </tr>\n",
       "    <tr>\n",
       "      <th>3</th>\n",
       "      <td>MD Abubakkar Siddik</td>\n",
       "      <td>ID: 100034887287306</td>\n",
       "      <td>2022-09-08 10:37:35</td>\n",
       "      <td>তাও আবার লাশ ওরাই ময়নাতদন্ত করবে?</td>\n",
       "      <td>1</td>\n",
       "    </tr>\n",
       "    <tr>\n",
       "      <th>4</th>\n",
       "      <td>Obaidur Rahman</td>\n",
       "      <td>ID: 100003165530059</td>\n",
       "      <td>2022-09-08 10:37:41</td>\n",
       "      <td>তার সফর উপলক্ষে উপহার</td>\n",
       "      <td>6</td>\n",
       "    </tr>\n",
       "    <tr>\n",
       "      <th>...</th>\n",
       "      <td>...</td>\n",
       "      <td>...</td>\n",
       "      <td>...</td>\n",
       "      <td>...</td>\n",
       "      <td>...</td>\n",
       "    </tr>\n",
       "    <tr>\n",
       "      <th>94</th>\n",
       "      <td>Md Arif Mirdha</td>\n",
       "      <td>ID: 100007330626442</td>\n",
       "      <td>2022-09-08 10:50:16</td>\n",
       "      <td>ওহ আল্লাহ তুমি কি দেখো না</td>\n",
       "      <td>1</td>\n",
       "    </tr>\n",
       "    <tr>\n",
       "      <th>95</th>\n",
       "      <td>Nayeem Rahman</td>\n",
       "      <td>ID: 100009512499575</td>\n",
       "      <td>2022-09-08 10:50:31</td>\n",
       "      <td>আমরা ইলিশ উপহার দিলাম আর ওরা লাশ উপহার দিলো। ধ...</td>\n",
       "      <td>3</td>\n",
       "    </tr>\n",
       "    <tr>\n",
       "      <th>96</th>\n",
       "      <td>Shahadat Hossain Saddam</td>\n",
       "      <td>ID: 100005144534859</td>\n",
       "      <td>2022-09-08 10:50:36</td>\n",
       "      <td>চিন্তা করা যায়,পাখির মত মেনে ফেলে বাংলাদেশ আঙ্...</td>\n",
       "      <td>3</td>\n",
       "    </tr>\n",
       "    <tr>\n",
       "      <th>97</th>\n",
       "      <td>Fakhrul Islam</td>\n",
       "      <td>ID: 100007702720149</td>\n",
       "      <td>2022-09-08 10:50:37</td>\n",
       "      <td>বাংলাদেশ-ভারত ভাই-ভাই।</td>\n",
       "      <td>3</td>\n",
       "    </tr>\n",
       "    <tr>\n",
       "      <th>98</th>\n",
       "      <td>Zahin Ahmed</td>\n",
       "      <td>ID: 100068173387802</td>\n",
       "      <td>2022-09-08 10:50:38</td>\n",
       "      <td>ইন্নালিল্লাহ 😭😭</td>\n",
       "      <td>1</td>\n",
       "    </tr>\n",
       "  </tbody>\n",
       "</table>\n",
       "<p>99 rows × 5 columns</p>\n",
       "</div>"
      ],
      "text/plain": [
       "                      Name            Profile ID                Date  \\\n",
       "0          Md Sohorab Munsi  ID: 100003883864232 2022-09-08 10:37:13   \n",
       "1             Md Eleaus Mia  ID: 100009038460644 2022-09-08 10:37:26   \n",
       "2              Ashiq Mollik  ID: 100007295678324 2022-09-08 10:37:31   \n",
       "3       MD Abubakkar Siddik  ID: 100034887287306 2022-09-08 10:37:35   \n",
       "4            Obaidur Rahman  ID: 100003165530059 2022-09-08 10:37:41   \n",
       "..                      ...                  ...                 ...   \n",
       "94           Md Arif Mirdha  ID: 100007330626442 2022-09-08 10:50:16   \n",
       "95            Nayeem Rahman  ID: 100009512499575 2022-09-08 10:50:31   \n",
       "96  Shahadat Hossain Saddam  ID: 100005144534859 2022-09-08 10:50:36   \n",
       "97            Fakhrul Islam  ID: 100007702720149 2022-09-08 10:50:37   \n",
       "98              Zahin Ahmed  ID: 100068173387802 2022-09-08 10:50:38   \n",
       "\n",
       "                                              Comment  Category  \n",
       "0   ইলিশের মূল্য চুকাতে হবে না?? এত কম মূল্যে ইলিশ...         3  \n",
       "1                               ভারত সফরের পুরস্কার😢😢         1  \n",
       "2   কি  অবস্থা ,  আমাদের  প্রধানমন্ত্রী still  kno...         3  \n",
       "3                   তাও আবার লাশ ওরাই ময়নাতদন্ত করবে?         1  \n",
       "4                               তার সফর উপলক্ষে উপহার         6  \n",
       "..                                                ...       ...  \n",
       "94                          ওহ আল্লাহ তুমি কি দেখো না         1  \n",
       "95  আমরা ইলিশ উপহার দিলাম আর ওরা লাশ উপহার দিলো। ধ...         3  \n",
       "96  চিন্তা করা যায়,পাখির মত মেনে ফেলে বাংলাদেশ আঙ্...         3  \n",
       "97                             বাংলাদেশ-ভারত ভাই-ভাই।         3  \n",
       "98                                    ইন্নালিল্লাহ 😭😭         1  \n",
       "\n",
       "[99 rows x 5 columns]"
      ]
     },
     "execution_count": 6,
     "metadata": {},
     "output_type": "execute_result"
    }
   ],
   "source": [
    "data=pd.read_excel('prothom_alo_1.xlsx')\n",
    "data"
   ]
  },
  {
   "cell_type": "code",
   "execution_count": 7,
   "metadata": {},
   "outputs": [
    {
     "data": {
      "text/plain": [
       "Index(['Name ', 'Profile ID', 'Date', 'Comment', 'Category'], dtype='object')"
      ]
     },
     "execution_count": 7,
     "metadata": {},
     "output_type": "execute_result"
    }
   ],
   "source": [
    "data.columns"
   ]
  },
  {
   "cell_type": "code",
   "execution_count": 8,
   "metadata": {},
   "outputs": [
    {
     "data": {
      "text/plain": [
       "99"
      ]
     },
     "execution_count": 8,
     "metadata": {},
     "output_type": "execute_result"
    }
   ],
   "source": [
    "len(data)"
   ]
  },
  {
   "cell_type": "code",
   "execution_count": 9,
   "metadata": {},
   "outputs": [
    {
     "data": {
      "image/png": "[encoded data removed]",
      "text/plain": [
       "<Figure size 720x432 with 1 Axes>"
      ]
     },
     "metadata": {},
     "output_type": "display_data"
    }
   ],
   "source": [
    "sns.set(font_scale=1.4)\n",
    "data['Category'].value_counts().plot(kind= 'bar' , figsize=(10,6), rot=0)\n",
    "plt.xlabel(\"Number of Comments\", labelpad=1)\n",
    "plt.ylabel(\"Sentiment Class\", labelpad=1)\n",
    "plt.yticks(rotation = 0)\n",
    "plt.title(\"Dataset Distribution\", y=1.02);\n"
   ]
  },
  {
   "cell_type": "code",
   "execution_count": 10,
   "metadata": {},
   "outputs": [],
   "source": [
    "# Data cleaning function\n",
    "def process_comments(Comment): \n",
    "    Comment = re.sub('[^\\u0980-\\u09FF]',' ',str(Comment)) #removing unnecessary punctuation\n",
    "    return Comment"
   ]
  },
  {
   "cell_type": "code",
   "execution_count": 11,
   "metadata": {},
   "outputs": [],
   "source": [
    "data['cleaned']=data['Comment'].apply(process_comments)"
   ]
  },
  {
   "cell_type": "code",
   "execution_count": 12,
   "metadata": {},
   "outputs": [
    {
     "data": {
      "text/html": [
       "<div>\n",
       "<style scoped>\n",
       "    .dataframe tbody tr th:only-of-type {\n",
       "        vertical-align: middle;\n",
       "    }\n",
       "\n",
       "    .dataframe tbody tr th {\n",
       "        vertical-align: top;\n",
       "    }\n",
       "\n",
       "    .dataframe thead th {\n",
       "        text-align: right;\n",
       "    }\n",
       "</style>\n",
       "<table border=\"1\" class=\"dataframe\">\n",
       "  <thead>\n",
       "    <tr style=\"text-align: right;\">\n",
       "      <th></th>\n",
       "      <th>Name</th>\n",
       "      <th>Profile ID</th>\n",
       "      <th>Date</th>\n",
       "      <th>Comment</th>\n",
       "      <th>Category</th>\n",
       "      <th>cleaned</th>\n",
       "    </tr>\n",
       "  </thead>\n",
       "  <tbody>\n",
       "    <tr>\n",
       "      <th>0</th>\n",
       "      <td>Md Sohorab Munsi</td>\n",
       "      <td>ID: 100003883864232</td>\n",
       "      <td>2022-09-08 10:37:13</td>\n",
       "      <td>ইলিশের মূল্য চুকাতে হবে না?? এত কম মূল্যে ইলিশ...</td>\n",
       "      <td>3</td>\n",
       "      <td>ইলিশের মূল্য চুকাতে হবে না   এত কম মূল্যে ইলিশ...</td>\n",
       "    </tr>\n",
       "    <tr>\n",
       "      <th>1</th>\n",
       "      <td>Md Eleaus Mia</td>\n",
       "      <td>ID: 100009038460644</td>\n",
       "      <td>2022-09-08 10:37:26</td>\n",
       "      <td>ভারত সফরের পুরস্কার😢😢</td>\n",
       "      <td>1</td>\n",
       "      <td>ভারত সফরের পুরস্কার</td>\n",
       "    </tr>\n",
       "    <tr>\n",
       "      <th>2</th>\n",
       "      <td>Ashiq Mollik</td>\n",
       "      <td>ID: 100007295678324</td>\n",
       "      <td>2022-09-08 10:37:31</td>\n",
       "      <td>কি  অবস্থা ,  আমাদের  প্রধানমন্ত্রী still  kno...</td>\n",
       "      <td>3</td>\n",
       "      <td>কি  অবস্থা    আমাদের  প্রধানমন্ত্রী           ...</td>\n",
       "    </tr>\n",
       "    <tr>\n",
       "      <th>3</th>\n",
       "      <td>MD Abubakkar Siddik</td>\n",
       "      <td>ID: 100034887287306</td>\n",
       "      <td>2022-09-08 10:37:35</td>\n",
       "      <td>তাও আবার লাশ ওরাই ময়নাতদন্ত করবে?</td>\n",
       "      <td>1</td>\n",
       "      <td>তাও আবার লাশ ওরাই ময়নাতদন্ত করবে</td>\n",
       "    </tr>\n",
       "    <tr>\n",
       "      <th>4</th>\n",
       "      <td>Obaidur Rahman</td>\n",
       "      <td>ID: 100003165530059</td>\n",
       "      <td>2022-09-08 10:37:41</td>\n",
       "      <td>তার সফর উপলক্ষে উপহার</td>\n",
       "      <td>6</td>\n",
       "      <td>তার সফর উপলক্ষে উপহার</td>\n",
       "    </tr>\n",
       "    <tr>\n",
       "      <th>...</th>\n",
       "      <td>...</td>\n",
       "      <td>...</td>\n",
       "      <td>...</td>\n",
       "      <td>...</td>\n",
       "      <td>...</td>\n",
       "      <td>...</td>\n",
       "    </tr>\n",
       "    <tr>\n",
       "      <th>94</th>\n",
       "      <td>Md Arif Mirdha</td>\n",
       "      <td>ID: 100007330626442</td>\n",
       "      <td>2022-09-08 10:50:16</td>\n",
       "      <td>ওহ আল্লাহ তুমি কি দেখো না</td>\n",
       "      <td>1</td>\n",
       "      <td>ওহ আল্লাহ তুমি কি দেখো না</td>\n",
       "    </tr>\n",
       "    <tr>\n",
       "      <th>95</th>\n",
       "      <td>Nayeem Rahman</td>\n",
       "      <td>ID: 100009512499575</td>\n",
       "      <td>2022-09-08 10:50:31</td>\n",
       "      <td>আমরা ইলিশ উপহার দিলাম আর ওরা লাশ উপহার দিলো। ধ...</td>\n",
       "      <td>3</td>\n",
       "      <td>আমরা ইলিশ উপহার দিলাম আর ওরা লাশ উপহার দিলো  ধ...</td>\n",
       "    </tr>\n",
       "    <tr>\n",
       "      <th>96</th>\n",
       "      <td>Shahadat Hossain Saddam</td>\n",
       "      <td>ID: 100005144534859</td>\n",
       "      <td>2022-09-08 10:50:36</td>\n",
       "      <td>চিন্তা করা যায়,পাখির মত মেনে ফেলে বাংলাদেশ আঙ্...</td>\n",
       "      <td>3</td>\n",
       "      <td>চিন্তা করা যায় পাখির মত মেনে ফেলে বাংলাদেশ আঙ্...</td>\n",
       "    </tr>\n",
       "    <tr>\n",
       "      <th>97</th>\n",
       "      <td>Fakhrul Islam</td>\n",
       "      <td>ID: 100007702720149</td>\n",
       "      <td>2022-09-08 10:50:37</td>\n",
       "      <td>বাংলাদেশ-ভারত ভাই-ভাই।</td>\n",
       "      <td>3</td>\n",
       "      <td>বাংলাদেশ ভারত ভাই ভাই</td>\n",
       "    </tr>\n",
       "    <tr>\n",
       "      <th>98</th>\n",
       "      <td>Zahin Ahmed</td>\n",
       "      <td>ID: 100068173387802</td>\n",
       "      <td>2022-09-08 10:50:38</td>\n",
       "      <td>ইন্নালিল্লাহ 😭😭</td>\n",
       "      <td>1</td>\n",
       "      <td>ইন্নালিল্লাহ</td>\n",
       "    </tr>\n",
       "  </tbody>\n",
       "</table>\n",
       "<p>99 rows × 6 columns</p>\n",
       "</div>"
      ],
      "text/plain": [
       "                      Name            Profile ID                Date  \\\n",
       "0          Md Sohorab Munsi  ID: 100003883864232 2022-09-08 10:37:13   \n",
       "1             Md Eleaus Mia  ID: 100009038460644 2022-09-08 10:37:26   \n",
       "2              Ashiq Mollik  ID: 100007295678324 2022-09-08 10:37:31   \n",
       "3       MD Abubakkar Siddik  ID: 100034887287306 2022-09-08 10:37:35   \n",
       "4            Obaidur Rahman  ID: 100003165530059 2022-09-08 10:37:41   \n",
       "..                      ...                  ...                 ...   \n",
       "94           Md Arif Mirdha  ID: 100007330626442 2022-09-08 10:50:16   \n",
       "95            Nayeem Rahman  ID: 100009512499575 2022-09-08 10:50:31   \n",
       "96  Shahadat Hossain Saddam  ID: 100005144534859 2022-09-08 10:50:36   \n",
       "97            Fakhrul Islam  ID: 100007702720149 2022-09-08 10:50:37   \n",
       "98              Zahin Ahmed  ID: 100068173387802 2022-09-08 10:50:38   \n",
       "\n",
       "                                              Comment  Category  \\\n",
       "0   ইলিশের মূল্য চুকাতে হবে না?? এত কম মূল্যে ইলিশ...         3   \n",
       "1                               ভারত সফরের পুরস্কার😢😢         1   \n",
       "2   কি  অবস্থা ,  আমাদের  প্রধানমন্ত্রী still  kno...         3   \n",
       "3                   তাও আবার লাশ ওরাই ময়নাতদন্ত করবে?         1   \n",
       "4                               তার সফর উপলক্ষে উপহার         6   \n",
       "..                                                ...       ...   \n",
       "94                          ওহ আল্লাহ তুমি কি দেখো না         1   \n",
       "95  আমরা ইলিশ উপহার দিলাম আর ওরা লাশ উপহার দিলো। ধ...         3   \n",
       "96  চিন্তা করা যায়,পাখির মত মেনে ফেলে বাংলাদেশ আঙ্...         3   \n",
       "97                             বাংলাদেশ-ভারত ভাই-ভাই।         3   \n",
       "98                                    ইন্নালিল্লাহ 😭😭         1   \n",
       "\n",
       "                                              cleaned  \n",
       "0   ইলিশের মূল্য চুকাতে হবে না   এত কম মূল্যে ইলিশ...  \n",
       "1                               ভারত সফরের পুরস্কার    \n",
       "2   কি  অবস্থা    আমাদের  প্রধানমন্ত্রী           ...  \n",
       "3                   তাও আবার লাশ ওরাই ময়নাতদন্ত করবে   \n",
       "4                               তার সফর উপলক্ষে উপহার  \n",
       "..                                                ...  \n",
       "94                          ওহ আল্লাহ তুমি কি দেখো না  \n",
       "95  আমরা ইলিশ উপহার দিলাম আর ওরা লাশ উপহার দিলো  ধ...  \n",
       "96  চিন্তা করা যায় পাখির মত মেনে ফেলে বাংলাদেশ আঙ্...  \n",
       "97                             বাংলাদেশ ভারত ভাই ভাই   \n",
       "98                                    ইন্নালিল্লাহ     \n",
       "\n",
       "[99 rows x 6 columns]"
      ]
     },
     "execution_count": 12,
     "metadata": {},
     "output_type": "execute_result"
    }
   ],
   "source": [
    "data"
   ]
  },
  {
   "cell_type": "code",
   "execution_count": 13,
   "metadata": {},
   "outputs": [],
   "source": [
    "data['length']=data['cleaned'].apply(lambda x: len(x.split()))"
   ]
  },
  {
   "cell_type": "code",
   "execution_count": 14,
   "metadata": {},
   "outputs": [
    {
     "data": {
      "text/plain": [
       "0     15\n",
       "1      3\n",
       "2      7\n",
       "3      6\n",
       "4      4\n",
       "      ..\n",
       "94     6\n",
       "95    24\n",
       "96    11\n",
       "97     4\n",
       "98     1\n",
       "Name: length, Length: 99, dtype: int64"
      ]
     },
     "execution_count": 14,
     "metadata": {},
     "output_type": "execute_result"
    }
   ],
   "source": [
    "data['length']"
   ]
  },
  {
   "cell_type": "code",
   "execution_count": 15,
   "metadata": {},
   "outputs": [],
   "source": [
    "def data_summary(dataset):\n",
    "    \n",
    "    \"\"\"\n",
    "    This function will print the summary of the reviews and words distribution in the dataset. \n",
    "    \n",
    "    Args:\n",
    "        dataset: list of cleaned sentences   \n",
    "        \n",
    "    Returns:\n",
    "        Number of documnets per class: int \n",
    "        Number of words per class: int\n",
    "        Number of unique words per class: int\n",
    "    \"\"\"\n",
    "    documents = []\n",
    "    words = []\n",
    "    u_words = []\n",
    "    total_u_words = [word.strip().lower() for t in list(dataset.cleaned) for word in t.strip().split()]\n",
    "    class_label= [k for k,v in dataset.Category.value_counts().to_dict().items()]\n",
    "  # find word list\n",
    "    for label in class_label: \n",
    "        word_list = [word.strip().lower() for t in list(dataset[dataset.Category==label].cleaned) for word in t.strip().split()]\n",
    "        counts = dict()\n",
    "        for word in word_list:\n",
    "                counts[word] = counts.get(word, 0)+1\n",
    "        # sort the dictionary of word list  \n",
    "        ordered = sorted(counts.items(), key= lambda item: item[1],reverse = True)\n",
    "        # Documents per class\n",
    "        documents.append(len(list(dataset[dataset.Category==label].cleaned)))\n",
    "        # Total Word per class\n",
    "        words.append(len(word_list))\n",
    "        # Unique words per class \n",
    "        u_words.append(len(np.unique(word_list)))\n",
    "       \n",
    "        print(\"\\nClass Name : \",label)\n",
    "        print(\"Number of Documents:{}\".format(len(list(dataset[dataset.Category==label].cleaned))))  \n",
    "        print(\"Number of Words:{}\".format(len(word_list))) \n",
    "        print(\"Number of Unique Words:{}\".format(len(np.unique(word_list)))) \n",
    "        print(\"Most Frequent Words:\\n\")\n",
    "        for k,v in ordered[:10]:\n",
    "              print(\"{}\\t{}\".format(k,v))\n",
    "    print(\"Total Number of Unique Words:{}\".format(len(np.unique(total_u_words))))           \n",
    "   \n",
    "    return documents,words,u_words,class_label"
   ]
  },
  {
   "cell_type": "code",
   "execution_count": 16,
   "metadata": {},
   "outputs": [
    {
     "name": "stdout",
     "output_type": "stream",
     "text": [
      "\n",
      "Class Name :  3\n",
      "Number of Documents:47\n",
      "Number of Words:547\n",
      "Number of Unique Words:362\n",
      "Most Frequent Words:\n",
      "\n",
      "উপহার\t18\n",
      "আমাদের\t13\n",
      "ইলিশ\t9\n",
      "লাশ\t8\n",
      "ভারত\t7\n",
      "করে\t7\n",
      "ইলিশের\t6\n",
      "না\t6\n",
      "কোন\t6\n",
      "আমরা\t5\n",
      "\n",
      "Class Name :  1\n",
      "Number of Documents:29\n",
      "Number of Words:310\n",
      "Number of Unique Words:203\n",
      "Most Frequent Words:\n",
      "\n",
      "না\t10\n",
      "আর\t7\n",
      "হবে\t6\n",
      "ভারত\t5\n",
      "দেশের\t5\n",
      "এই\t4\n",
      "সীমান্ত\t4\n",
      "করে\t4\n",
      "তার\t4\n",
      "কি\t4\n",
      "\n",
      "Class Name :  6\n",
      "Number of Documents:8\n",
      "Number of Words:57\n",
      "Number of Unique Words:55\n",
      "Most Frequent Words:\n",
      "\n",
      "উপহার\t2\n",
      "সফরের\t2\n",
      "তার\t1\n",
      "সফর\t1\n",
      "উপলক্ষে\t1\n",
      "ইলিশের\t1\n",
      "সামি\t1\n",
      "স্ত্রীর\t1\n",
      "এতো\t1\n",
      "মিল\t1\n",
      "\n",
      "Class Name :  2\n",
      "Number of Documents:7\n",
      "Number of Words:34\n",
      "Number of Unique Words:32\n",
      "Most Frequent Words:\n",
      "\n",
      "কি\t2\n",
      "কেনো\t2\n",
      "সীমান্ত\t1\n",
      "হত্যা\t1\n",
      "নিয়ে\t1\n",
      "আলোচনা\t1\n",
      "এবার\t1\n",
      "হলো\t1\n",
      "আপনাদের\t1\n",
      "হাত\t1\n",
      "\n",
      "Class Name :  4\n",
      "Number of Documents:4\n",
      "Number of Words:57\n",
      "Number of Unique Words:53\n",
      "Most Frequent Words:\n",
      "\n",
      "মা\t3\n",
      "বাংলাদেশ\t2\n",
      "মতো\t2\n",
      "মুদির\t1\n",
      "বউ\t1\n",
      "ভারতে\t1\n",
      "ইলিশ\t1\n",
      "পাঠাইয়া\t1\n",
      "কার\t1\n",
      "বা\t1\n",
      "\n",
      "Class Name :  5\n",
      "Number of Documents:4\n",
      "Number of Words:16\n",
      "Number of Unique Words:16\n",
      "Most Frequent Words:\n",
      "\n",
      "হাঁটাও\t1\n",
      "হাসিনা\t1\n",
      "দেশ\t1\n",
      "বাঁচাও\t1\n",
      "বন্ধু\t1\n",
      "দেশের\t1\n",
      "উপহার\t1\n",
      "ইন্ডিয়ান\t1\n",
      "দালাল্রা\t1\n",
      "এইগুলা\t1\n",
      "Total Number of Unique Words:568\n"
     ]
    }
   ],
   "source": [
    "documents,words,u_words,class_names = data_summary(data)"
   ]
  },
  {
   "cell_type": "code",
   "execution_count": 17,
   "metadata": {},
   "outputs": [
    {
     "data": {
      "image/png": "[encoded data removed]",
      "text/plain": [
       "<Figure size 432x288 with 1 Axes>"
      ]
     },
     "metadata": {},
     "output_type": "display_data"
    }
   ],
   "source": [
    "data_matrix = pd.DataFrame({'Total Documents':documents,\n",
    "                            'Total Words':words,\n",
    "                            'Unique Words':u_words,\n",
    "                            'Class Names':class_names})\n",
    "df = pd.melt(data_matrix, id_vars=\"Class Names\", var_name=\"Category\", value_name=\"Values\")\n",
    "plt.figure(figsize=(6, 4))\n",
    "ax = plt.subplot()\n",
    "\n",
    "sns.barplot(data=df,x='Class Names', y='Values' ,hue='Category')\n",
    "ax.set_xlabel('Class Names') \n",
    "ax.set_title('Data Statistics')\n",
    "\n",
    "ax.xaxis.set_ticklabels(class_names, rotation=0, ha=\"center\");"
   ]
  },
  {
   "cell_type": "code",
   "execution_count": 18,
   "metadata": {},
   "outputs": [],
   "source": [
    "data['ReviewLength'] = data.cleaned.apply(lambda x:len(x.split()))"
   ]
  },
  {
   "cell_type": "code",
   "execution_count": 19,
   "metadata": {},
   "outputs": [
    {
     "data": {
      "image/png": "[encoded data removed]",
      "text/plain": [
       "<Figure size 432x288 with 1 Axes>"
      ]
     },
     "metadata": {},
     "output_type": "display_data"
    },
    {
     "name": "stdout",
     "output_type": "stream",
     "text": [
      "Maximum Length of a review: 70\n",
      "Minimum Length of a review: 0\n",
      "Average Length of a reviews: 10.0\n"
     ]
    }
   ],
   "source": [
    "frequency = dict()\n",
    "for i in data.ReviewLength:\n",
    "    frequency[i] = frequency.get(i, 0)+1\n",
    "\n",
    "plt.bar(frequency.keys(), frequency.values(), color =\"b\")\n",
    "plt.xlim(1, 135)\n",
    "# in this notbook color is not working but it should work.\n",
    "plt.xlabel('Lenght of the Texts')\n",
    "plt.ylabel('Frequency')\n",
    "plt.title('Length-Frequency Distribution')\n",
    "plt.show()  \n",
    "print(f\"Maximum Length of a review: {max(data.ReviewLength)}\")\n",
    "print(f\"Minimum Length of a review: {min(data.ReviewLength)}\")\n",
    "print(f\"Average Length of a reviews: {round(np.mean(data.ReviewLength),0)}\")"
   ]
  },
  {
   "cell_type": "code",
   "execution_count": 21,
   "metadata": {},
   "outputs": [],
   "source": [
    "\n",
    "\n",
    "#==================================================\n",
    "                                       ################# Label Encoding Function #########\n",
    "                                       #==================================================\n",
    "\n",
    "def label_encoding(sentiment,bool):\n",
    "    \"\"\"\n",
    "    This function will return the encoded labels in array format. \n",
    "    \n",
    "    Args:\n",
    "        sentiment: series of class names(str)\n",
    "        bool: boolean (True or False)\n",
    "        \n",
    "    Returns:\n",
    "        labels: numpy array \n",
    "    \"\"\"\n",
    "    le = LabelEncoder()\n",
    "    le.fit(sentiment)\n",
    "    encoded_labels = le.transform(sentiment)\n",
    "    labels = np.array(encoded_labels) # Converting into numpy array\n",
    "    class_names =le.classes_ ## Define the class names again\n",
    "    if bool == True:\n",
    "        print(\"\\n\\t\\t\\t===== Label Encoding =====\",\"\\nClass Names:-->\",le.classes_)\n",
    "\n",
    "    return labels"
   ]
  },
  {
   "cell_type": "code",
   "execution_count": 22,
   "metadata": {},
   "outputs": [],
   "source": [
    "\n",
    "                           #===========================================================\n",
    "                           ################# Dataset Splitting Function ###############\n",
    "                           #=========================================================== \n",
    "\n",
    "def dataset_split(feature_space,sentiment):\n",
    "    \"\"\"\n",
    "    This function will return the splitted (80%-20%) feature vector . \n",
    "    \n",
    "    Args:\n",
    "        feature_space: calcuated feature vector (sparse matrix)\n",
    "        sentiment: encoded lables (array) \n",
    "        \n",
    "    Returns:\n",
    "        X_train: training feature vector (sparse matrix)\n",
    "        X_test : testing feature vector (sparse matrix)\n",
    "        y_train: training encoded labels (array) \n",
    "        y_test : testing encoded labels (array) \n",
    "    \"\"\"\n",
    "\n",
    "    X_train,X_test,y_train,y_test = train_test_split(feature_space,sentiment,train_size = 0.9,\n",
    "                                                  test_size = 0.1,random_state =0)\n",
    "    print(\"Feature Size :======>\",X_train.shape[1])\n",
    "    print(\"\\nDataset Distribution:\\n\")\n",
    "    print(\"\\tSet Name\",\"\\t\\tSize\")\n",
    "    print(\"\\t========\\t\\t======\")\n",
    "\n",
    "    print(\"\\tFull\\t\\t\\t\",feature_space.shape[0],\n",
    "        \"\\n\\tTraining\\t\\t\",X_train.shape[0],\n",
    "        \"\\n\\tTest\\t\\t\\t\",X_test.shape[0])\n",
    "  \n",
    "    return X_train,X_test,y_train,y_test"
   ]
  },
  {
   "cell_type": "code",
   "execution_count": 23,
   "metadata": {},
   "outputs": [],
   "source": [
    "\n",
    "\n",
    "data.cleaned = data.cleaned.apply(lambda x:x.replace('\\n',' '))\n",
    "\n"
   ]
  },
  {
   "cell_type": "code",
   "execution_count": 24,
   "metadata": {},
   "outputs": [
    {
     "data": {
      "text/plain": [
       "0     ইলিশের মূল্য চুকাতে হবে না   এত কম মূল্যে ইলিশ...\n",
       "1                                 ভারত সফরের পুরস্কার  \n",
       "2     কি  অবস্থা    আমাদের  প্রধানমন্ত্রী           ...\n",
       "3                     তাও আবার লাশ ওরাই ময়নাতদন্ত করবে \n",
       "4                                 তার সফর উপলক্ষে উপহার\n",
       "                            ...                        \n",
       "94                            ওহ আল্লাহ তুমি কি দেখো না\n",
       "95    আমরা ইলিশ উপহার দিলাম আর ওরা লাশ উপহার দিলো  ধ...\n",
       "96    চিন্তা করা যায় পাখির মত মেনে ফেলে বাংলাদেশ আঙ্...\n",
       "97                               বাংলাদেশ ভারত ভাই ভাই \n",
       "98                                      ইন্নালিল্লাহ   \n",
       "Name: cleaned, Length: 99, dtype: object"
      ]
     },
     "execution_count": 24,
     "metadata": {},
     "output_type": "execute_result"
    }
   ],
   "source": [
    "data.cleaned"
   ]
  },
  {
   "cell_type": "code",
   "execution_count": 25,
   "metadata": {},
   "outputs": [],
   "source": [
    "\n",
    "\n",
    "#======================================\n",
    "                                            ##### Unigram Tf-idf value calculation\n",
    "                                            #======================================\n",
    "            \n",
    "def calc_gram_tfidf(reviews,gram):\n",
    "    \"\"\"\n",
    "    This function will return the tf-idf value of the respective gram features . \n",
    "    \n",
    "    Args:\n",
    "        reviews: a list of cleaned reviews   \n",
    "        \n",
    "    Returns:\n",
    "        tfidf: a instance of TfidfVectorizer\n",
    "        X : Unigram Feature Vector (sparse matrix)\n",
    "    \"\"\"\n",
    "    tfidf = TfidfVectorizer(ngram_range=gram,use_idf=True,tokenizer=lambda x: x.split()) \n",
    "    X = tfidf.fit_transform(reviews)\n",
    "    \n",
    "    return tfidf,X\n",
    "\n"
   ]
  },
  {
   "cell_type": "code",
   "execution_count": null,
   "metadata": {},
   "outputs": [],
   "source": [
    "from sklearn.linear_model import LogisticRegression\n",
    "from sklearn.tree import DecisionTreeClassifier\n",
    "from sklearn.ensemble import RandomForestClassifier\n",
    "from sklearn.naive_bayes import MultinomialNB\n",
    "from sklearn.neighbors import KNeighborsClassifier\n",
    "from sklearn.svm import SVC\n",
    "from sklearn.linear_model import SGDClassifier\n",
    "from sklearn.metrics import classification_report,accuracy_score,precision_score,recall_score,f1_score\n",
    "from sklearn.metrics import roc_curve, roc_auc_score\n",
    "from sklearn.metrics import average_precision_score,roc_auc_score, roc_curve, precision_recall_curve"
   ]
  }
 ],
 "metadata": {
  "kernelspec": {
   "display_name": "Python 3.9.7 ('base')",
   "language": "python",
   "name": "python3"
  },
  "language_info": {
   "codemirror_mode": {
    "name": "ipython",
    "version": 3
   },
   "file_extension": ".py",
   "mimetype": "text/x-python",
   "name": "python",
   "nbconvert_exporter": "python",
   "pygments_lexer": "ipython3",
   "version": "3.9.7"
  },
  "orig_nbformat": 4,
  "vscode": {
   "interpreter": {
    "hash": "72810415e89f4781583f83fd436e59b66cd4ea53cdb796548e396a9e08c48419"
   }
  }
 },
 "nbformat": 4,
 "nbformat_minor": 2
}
